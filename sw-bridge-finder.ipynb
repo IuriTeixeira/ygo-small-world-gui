{
 "cells": [
  {
   "cell_type": "markdown",
   "metadata": {},
   "source": [
    "# Import Packages"
   ]
  },
  {
   "cell_type": "code",
   "execution_count": 1,
   "metadata": {},
   "outputs": [],
   "source": [
    "import json\n",
    "import pandas as pd\n",
    "import numpy as np\n",
    "from sw_functions import sub_df, load_main_monsters, create_sw_adjacency_matrix"
   ]
  },
  {
   "attachments": {},
   "cell_type": "markdown",
   "metadata": {},
   "source": [
    "# Load Cards and Create Adjacency Matrix"
   ]
  },
  {
   "cell_type": "code",
   "execution_count": null,
   "metadata": {},
   "outputs": [],
   "source": [
    "MAIN_MONSTERS = load_main_monsters()\n",
    "SW_ADJACENCY_MATRIX = create_sw_adjacency_matrix(MAIN_MONSTERS) #small world adjacency matrix of all cards"
   ]
  },
  {
   "attachments": {},
   "cell_type": "markdown",
   "metadata": {},
   "source": [
    "# Find Best Bridges Function"
   ]
  },
  {
   "cell_type": "code",
   "execution_count": null,
   "metadata": {},
   "outputs": [],
   "source": [
    "def find_best_bridges(deck_monster_names, required_target_names):\n",
    "    #inputs: list of monster names and list of monsters that are required to connect with the small world bridges\n",
    "    #output: The bridges that connect the most cards in your deck and connect with all the required targets\n",
    "    deck_monster_names = list(set(deck_monster_names) | set(required_target_names)) #union names\n",
    "    deck_indices = sub_df(MAIN_MONSTERS, deck_monster_names, 'name').index #indices of monsters in deck\n",
    "    required_indices = sub_df(MAIN_MONSTERS, required_target_names, 'name').index #indices of required connections\n",
    "\n",
    "    num_required_bridges = len(required_target_names) #number of cards required to connect with one bridge\n",
    "\n",
    "    required_monster_matrix = SW_ADJACENCY_MATRIX[required_indices,:] #array corresponding to (required connection monsters) by (all monsters)\n",
    "    num_bridges_to_required_cards = required_monster_matrix.sum(axis=0) #number of required connections satisfied by all monsters\n",
    "    required_bridge_mask = num_bridges_to_required_cards==num_required_bridges\n",
    "    bridges = MAIN_MONSTERS[required_bridge_mask] #data frame of monsters connecting all required targets\n",
    "    required_bridge_indices = bridges.index #indices of monsters that satisfy all required connections\n",
    "    if len(bridges)==0:\n",
    "        print('There are no monsters that bridge all required targets.')\n",
    "        return\n",
    "\n",
    "    #subset of adjacency matrix corresponding to (deck monsters) by (monsters with connections to the required cards)\n",
    "    bridge_matrix = SW_ADJACENCY_MATRIX[deck_indices,:][:,required_bridge_indices]\n",
    "\n",
    "    num_deck_bridges = bridge_matrix.sum(axis=0)\n",
    "    largest_num_bridges = max(num_deck_bridges)\n",
    "    most_deck_bridges_mask = num_deck_bridges==largest_num_bridges\n",
    "    most_deck_bridges = bridges[most_deck_bridges_mask]\n",
    "    \n",
    "    return most_deck_bridges"
   ]
  },
  {
   "attachments": {},
   "cell_type": "markdown",
   "metadata": {},
   "source": [
    "# Example"
   ]
  },
  {
   "cell_type": "code",
   "execution_count": null,
   "metadata": {},
   "outputs": [],
   "source": [
    "#cards that we want to find bridges between\n",
    "deck_monster_names = ['Ash Blossom & Joyous Spring',\n",
    "                        'Effect Veiler',\n",
    "                        'Ghost Belle & Haunted Mansion',\n",
    "                        'Mathmech Addition',\n",
    "                        'Mathmech Circular',\n",
    "                        'Mathmech Diameter',\n",
    "                        'Mathmech Multiplication',\n",
    "                        'Mathmech Nabla',\n",
    "                        'Mathmech Sigma',\n",
    "                        'Mathmech Subtraction',\n",
    "                        'Parallel eXceed',\n",
    "                        'Maxx \"C\"']\n",
    "\n",
    "#cards that are required to connect with a bridge\n",
    "required_target_names = ['Mathmech Circular',\n",
    "                        'Maxx \"C\"',\n",
    "                        'Parallel eXceed']\n",
    "\n",
    "find_best_bridges(deck_monster_names, required_target_names)"
   ]
  },
  {
   "cell_type": "code",
   "execution_count": null,
   "metadata": {},
   "outputs": [],
   "source": []
  }
 ],
 "metadata": {
  "kernelspec": {
   "display_name": "venv",
   "language": "python",
   "name": "python3"
  },
  "language_info": {
   "codemirror_mode": {
    "name": "ipython",
    "version": 3
   },
   "file_extension": ".py",
   "mimetype": "text/x-python",
   "name": "python",
   "nbconvert_exporter": "python",
   "pygments_lexer": "ipython3",
   "version": "3.11.1"
  },
  "orig_nbformat": 4,
  "vscode": {
   "interpreter": {
    "hash": "3c147ad441215270400aaee5d48429efd512529e90fe17991816a9df69f95697"
   }
  }
 },
 "nbformat": 4,
 "nbformat_minor": 2
}
